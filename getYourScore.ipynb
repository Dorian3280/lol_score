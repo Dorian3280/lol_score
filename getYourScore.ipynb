{
 "cells": [
  {
   "cell_type": "code",
   "execution_count": 1,
   "metadata": {},
   "outputs": [],
   "source": [
    "import requests\n",
    "import pandas as pd\n",
    "import matplotlib.pyplot as plt\n",
    "from secret import API_KEY\n",
    "from data import DATA\n",
    "from loggingFunc import *\n",
    "import matplotlib.pyplot as plt\n",
    "import numpy as np"
   ]
  },
  {
   "cell_type": "code",
   "execution_count": 2,
   "metadata": {},
   "outputs": [],
   "source": [
    "def get_server(server):\n",
    "    servers = {\n",
    "        'EUW': ('euw1', 'europe'),\n",
    "        'EUNE': ('eun1', 'europe'),\n",
    "        'RU': ('ru', 'europe'),\n",
    "        'NA': ('na1', 'americas'), \n",
    "        'BR': ('br1', 'americas'),\n",
    "        'LAN': ('la1', 'americas'),\n",
    "        'OCE': ('oc1', 'asia'),\n",
    "        'KR': ('kr', 'asia'),\n",
    "        'JP': ('jp1', 'asia')\n",
    "    }\n",
    "    \n",
    "    return servers[server]"
   ]
  },
  {
   "cell_type": "code",
   "execution_count": 3,
   "metadata": {},
   "outputs": [],
   "source": [
    "def get_info(server: str, ig):\n",
    "    \n",
    "    server, continent = get_server(server)\n",
    "    res = requests.get(f\"https://{server}.api.riotgames.com/lol/summoner/v4/summoners/by-name/{ig}?api_key={API_KEY}\")\n",
    "    if res.status_code != 200:\n",
    "        loggingError(res.status_code, get_info.__name__, ig)\n",
    "        raise Exception\n",
    "\n",
    "    return res.json()[\"puuid\"], continent"
   ]
  },
  {
   "cell_type": "code",
   "execution_count": 4,
   "metadata": {},
   "outputs": [],
   "source": [
    "def get_recent_games(puuid, continent):\n",
    "    nb = 80\n",
    "    res = requests.get(f\"https://{continent}.api.riotgames.com/lol/match/v5/matches/by-puuid/{puuid}/ids?type=ranked&start=0&count={nb}&api_key={API_KEY}\")\n",
    "    if res.status_code != 200:\n",
    "        loggingError(res.status_code, get_recent_games.__name__)\n",
    "        raise Exception\n",
    "\n",
    "    return res.json()"
   ]
  },
  {
   "cell_type": "code",
   "execution_count": 5,
   "metadata": {},
   "outputs": [],
   "source": [
    "def get_json_from_api(continent, g):\n",
    "\n",
    "    \"\"\"\n",
    "    Operation GET from the Riot Api, return all information about a game\n",
    "    country : where the game have been played\n",
    "    g : the id of the game\n",
    "    \"\"\"\n",
    "\n",
    "    res = requests.get(f\"https://{continent}.api.riotgames.com/lol/match/v5/matches/{g}?api_key={API_KEY}\")\n",
    "    if res.status_code != 200:\n",
    "        loggingError(res.status_code, get_json_from_api.__name__)\n",
    "        raise Exception\n",
    "    return res.json()"
   ]
  },
  {
   "cell_type": "code",
   "execution_count": 6,
   "metadata": {},
   "outputs": [],
   "source": [
    "def extract_data_from_json(json, index, columns):\n",
    "    \n",
    "    res = []\n",
    "    res.append(int(json['info'][\"participants\"][index]['win']))\n",
    "    res.append(json['info']['gameDuration'])\n",
    "    \n",
    "    for c in columns:\n",
    "        if c == 'kills':\n",
    "            res.append(json['info'][\"participants\"][index]['kills'])\n",
    "        if c == 'deaths':\n",
    "            res.append(json['info'][\"participants\"][index]['deaths'])\n",
    "        if c == 'csPerMinute':\n",
    "            res.append(round((json['info'][\"participants\"][index]['totalMinionsKilled'] + json['info'][\"participants\"][index]['neutralMinionsKilled']) / (json['info']['gameDuration'] / 60), 1))\n",
    "        if c == 'dmgPerMinute':\n",
    "            res.append(round(json['info'][\"participants\"][index]['totalDamageDealtToChampions'] / (json['info']['gameDuration'] / 60)))\n",
    "            \n",
    "    return res"
   ]
  },
  {
   "cell_type": "code",
   "execution_count": 7,
   "metadata": {},
   "outputs": [],
   "source": [
    "def get_df_from_json(games, champ, puuid, continent):\n",
    "\n",
    "    datas = []\n",
    "    for g in games:\n",
    "        json = get_json_from_api(continent, g)\n",
    "        index = json['metadata']['participants'].index(puuid)\n",
    "        \n",
    "        # Remove outliers\n",
    "        if json['info'][\"participants\"][index]['championName'] != champ: continue\n",
    "        if json['info'][\"participants\"][index]['teamPosition'] not in DATA[champ][\"role\"]: continue\n",
    "        if (json['info'][\"participants\"][index]['gameEndedInEarlySurrender'] | json['info'][\"participants\"][index]['gameEndedInSurrender']) and (json['info']['gameDuration'] < 1350): continue\n",
    "        try:\n",
    "            if json['challenges']['hadAfkTeammate'] > 0:\n",
    "                continue\n",
    "        except KeyError: pass\n",
    "        \n",
    "        res = extract_data_from_json(json, index, DATA[champ][\"columns\"])\n",
    "        datas.append(res)\n",
    "            \n",
    "    return pd.DataFrame(data=datas, columns=[\"win\", \"gameDuration\"] + DATA[champ][\"columns\"])"
   ]
  },
  {
   "cell_type": "code",
   "execution_count": 8,
   "metadata": {},
   "outputs": [],
   "source": [
    "def convert_to_int_or_float(x):\n",
    "    try: return int(x)\n",
    "    except ValueError: return float(x)\n",
    "\n",
    "def gen(n):\n",
    "    for i in n:\n",
    "        yield i"
   ]
  },
  {
   "cell_type": "code",
   "execution_count": 9,
   "metadata": {},
   "outputs": [],
   "source": [
    "def get_params(champ):\n",
    "\n",
    "    generator = gen(open('./data/params.txt', 'r'))\n",
    "    \n",
    "    while True:\n",
    "        str = next(generator)\n",
    "        if champ in str:\n",
    "            stats = str.strip().split(';')\n",
    "            stats.pop(0)\n",
    "            return {s.split(',')[0]: list(map(convert_to_int_or_float, s.split(',')[1:])) for s in stats}"
   ]
  },
  {
   "cell_type": "code",
   "execution_count": 10,
   "metadata": {},
   "outputs": [],
   "source": [
    "def add_score(df: pd.DataFrame, champ):\n",
    "    params = get_params(champ)\n",
    "    df[\"score\"] = df.apply(lambda x: sum([v[0]*((x[k]-v[1])/(v[2]-v[1])) for k, v in params.items()]), axis=1)\n",
    "    return df"
   ]
  },
  {
   "cell_type": "code",
   "execution_count": 11,
   "metadata": {},
   "outputs": [],
   "source": [
    "def get_your_score(ig, server, champ):\n",
    "    \n",
    "    try:\n",
    "        puuid, continent = get_info(server, ig)\n",
    "        games = get_recent_games(puuid, continent)\n",
    "        df = get_df_from_json(games, champ, puuid, continent)\n",
    "        df = add_score(df, champ)\n",
    "        loggingInfo(f'{ig} ({server}) as {champ}')\n",
    "        return df\n",
    "    except FileNotFoundError as e:\n",
    "        print(str(e))\n",
    "        return None"
   ]
  },
  {
   "cell_type": "code",
   "execution_count": 12,
   "metadata": {},
   "outputs": [],
   "source": [
    "scores = get_your_score('twack twack BONK', 'EUW', 'Jax')"
   ]
  },
  {
   "cell_type": "code",
   "execution_count": 17,
   "metadata": {},
   "outputs": [],
   "source": [
    "x = scores\n",
    "y = np.arange(x.shape[0])\n",
    "y_hist = np.linspace(0, 1, 15)"
   ]
  },
  {
   "cell_type": "code",
   "execution_count": null,
   "metadata": {},
   "outputs": [],
   "source": [
    "plt.figure(figsize=(25, 7))\n",
    "\n",
    "plt.subplot(1, 3, 1)\n",
    "plt.title(\"Score\")\n",
    "colors = np.where(x[\"win\"]==1,'b','r')\n",
    "markers = np.where(x[\"win\"]==1,'o','x')\n",
    "plt.scatter(y, x[\"score\"], c=colors)\n",
    "x1,x2,y1,y2 = plt.axis()\n",
    "plt.axis((x1,x2,0,1))\n",
    "plt.xlabel(\"Partie\")\n",
    "plt.ylabel(\"Score\")\n",
    "\n",
    "plt.subplot(1, 3, 2)\n",
    "plt.title(\"Histogramme\")\n",
    "plt.hist([x[x[\"win\"] == 1][\"score\"], x[x[\"win\"] == 0][\"score\"]], y_hist, color=['blue', 'red'], label=['victoire', 'defaite'])\n",
    "plt.xlabel(\"Score\")\n",
    "plt.ylabel(\"Nombre de parties\")\n",
    "plt.legend()\n",
    "\n",
    "plt.subplot(1, 3, 3)\n",
    "plt.title(\"Taux de victoire\")\n",
    "percent = x['win'].mean()*100\n",
    "labels = ['Victoire', 'Défaite']\n",
    "plt.pie([percent, 100-percent], labels=labels, autopct='%1.0f%%')\n",
    "plt.legend()\n",
    "\n",
    "plt.show()"
   ]
  }
 ],
 "metadata": {
  "interpreter": {
   "hash": "6b648a0063d3d39671237f26d6682346b9ded0a48bb27b07b7ec73c9aadac74d"
  },
  "kernelspec": {
   "display_name": "Python 3.9.7 ('base')",
   "language": "python",
   "name": "python3"
  },
  "language_info": {
   "codemirror_mode": {
    "name": "ipython",
    "version": 3
   },
   "file_extension": ".py",
   "mimetype": "text/x-python",
   "name": "python",
   "nbconvert_exporter": "python",
   "pygments_lexer": "ipython3",
   "version": "3.9.7"
  },
  "orig_nbformat": 4
 },
 "nbformat": 4,
 "nbformat_minor": 2
}
