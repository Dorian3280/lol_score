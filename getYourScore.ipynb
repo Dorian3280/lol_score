{
 "cells": [
  {
   "cell_type": "code",
   "execution_count": 13,
   "id": "27861cfb",
   "metadata": {},
   "outputs": [],
   "source": [
    "import requests\n",
    "import pandas as pd\n",
    "import matplotlib.pyplot as plt\n",
    "from secret import API_KEY\n",
    "from data import DATA"
   ]
  },
  {
   "cell_type": "code",
   "execution_count": 14,
   "id": "bfd4390d",
   "metadata": {},
   "outputs": [],
   "source": [
    "def pieWinrate(df):\n",
    "    plt.figure()\n",
    "    plt.title(\"Winrate\")\n",
    "    percent = df['winrate'].mean()*100\n",
    "    labels = ['win', 'lose']\n",
    "    plt.pie([percent, 100-percent], labels=labels, autopct='%1.0f%%')\n",
    "    plt.legend()\n",
    "    plt.show()"
   ]
  },
  {
   "cell_type": "code",
   "execution_count": 15,
   "id": "d86c90a7",
   "metadata": {},
   "outputs": [],
   "source": [
    "def formatScore(nbr):\n",
    "    level = \"\"\n",
    "    if nbr < 0.2:\n",
    "        level = \"C'est pas vraiment pas ouf..\"\n",
    "    elif nbr < 0.4:\n",
    "        level = \"Ça vaaaaaaa\"\n",
    "    elif nbr < 0.6:\n",
    "        level = \"Il s'en sort bien !\"\n",
    "    elif nbr < 0.8:\n",
    "        level = \"Trop fort\"\n",
    "    else:\n",
    "        level = \"Il est juste gifted en faite\"\n",
    "    return f\"T'es a {nbr:.0%} de performance. {level}\"\n"
   ]
  },
  {
   "cell_type": "code",
   "execution_count": 16,
   "id": "de815b93",
   "metadata": {},
   "outputs": [],
   "source": [
    "def getPuuid(ig):\n",
    "    return requests.get(f\"https://euw1.api.riotgames.com/lol/summoner/v4/summoners/by-name/{ig}?api_key={API_KEY}\").json()[\"puuid\"]"
   ]
  },
  {
   "cell_type": "code",
   "execution_count": 17,
   "id": "4fb57436",
   "metadata": {},
   "outputs": [],
   "source": [
    "def getRecentGames(puuid):\n",
    "    nb = 20\n",
    "    return requests.get(f\"https://europe.api.riotgames.com/lol/match/v5/matches/by-puuid/{puuid}/ids?type=ranked&start=0&count={nb}&api_key={API_KEY}\").json()"
   ]
  },
  {
   "cell_type": "code",
   "execution_count": 18,
   "id": "8d3e64af",
   "metadata": {},
   "outputs": [],
   "source": [
    "def getDFfromJson(puuid, games, champ):\n",
    "    array = []\n",
    "    for i in games:\n",
    "        json = requests.get(f\"https://europe.api.riotgames.com/lol/match/v5/matches/{i}?api_key={API_KEY}\").json()\n",
    "        index = json['metadata']['participants'].index(puuid)\n",
    "        player = json['info']['participants'][index]\n",
    "        if player['championName'] != champ: continue\n",
    "        if player['teamPosition'] != DATA[champ][\"role\"]: continue\n",
    "        player['gameDuration'] = json['info']['gameDuration']\n",
    "        array.append(pd.DataFrame({x: [player[x]] for x in DATA[champ][\"columns\"]}))\n",
    "            \n",
    "    return pd.concat(array).reset_index(drop=True)"
   ]
  },
  {
   "cell_type": "code",
   "execution_count": 19,
   "id": "9658d1f1",
   "metadata": {},
   "outputs": [],
   "source": [
    "def formatDf(df):\n",
    "    df['scoreCreeps'] = df['totalMinionsKilled'] + df['neutralMinionsKilled']\n",
    "    df.rename(columns={'win': 'winrate'})\n",
    "    return df"
   ]
  },
  {
   "cell_type": "code",
   "execution_count": 20,
   "id": "1cc428dc",
   "metadata": {},
   "outputs": [],
   "source": [
    "def getParams(champ):\n",
    "    def gen(n):\n",
    "        for i in n:\n",
    "            yield i\n",
    "\n",
    "    generator = gen(open('./params.txt', 'r'))\n",
    "    \n",
    "    while True:\n",
    "        str = next(generator)\n",
    "        if champ in str:\n",
    "            stats = str.strip().split(';')\n",
    "            stats.pop(0)\n",
    "            return {s.split(',')[0]: list(map(float, s.split(',')[1:])) for s in stats}"
   ]
  },
  {
   "cell_type": "code",
   "execution_count": 21,
   "id": "26f8ca1c",
   "metadata": {},
   "outputs": [],
   "source": [
    "def calcScore(params, df):\n",
    "    s = 0\n",
    "    for k, v in params.items():\n",
    "        n = (df[k] / (df['gameDuration'] / 60)).mean()\n",
    "        s += v[0]*((n-v[1])/(v[2]-v[1]))\n",
    "    return float(s)"
   ]
  },
  {
   "cell_type": "code",
   "execution_count": 22,
   "id": "0d26c666",
   "metadata": {},
   "outputs": [],
   "source": [
    "def getScore(df, champ):\n",
    "    params = getParams(champ)\n",
    "    s = calcScore(params, df)\n",
    "    return s"
   ]
  },
  {
   "cell_type": "code",
   "execution_count": 23,
   "id": "17594747",
   "metadata": {},
   "outputs": [
    {
     "name": "stdout",
     "output_type": "stream",
     "text": [
      "T'es a 43.0% de performance. Tu t'en sors bien !\n"
     ]
    }
   ],
   "source": [
    "ig = \"Vayntox\"\n",
    "champ = \"Vayne\"\n",
    "puuid = getPuuid(ig)\n",
    "games = getRecentGames(puuid)\n",
    "df = getDFfromJson(puuid, games, champ)\n",
    "df = formatDf(df)\n",
    "params = getParams(champ)\n",
    "score = getScore(df, champ)\n",
    "print(formatScore(score))"
   ]
  }
 ],
 "metadata": {
  "kernelspec": {
   "display_name": "Python 3 (ipykernel)",
   "language": "python",
   "name": "python3"
  },
  "language_info": {
   "codemirror_mode": {
    "name": "ipython",
    "version": 3
   },
   "file_extension": ".py",
   "mimetype": "text/x-python",
   "name": "python",
   "nbconvert_exporter": "python",
   "pygments_lexer": "ipython3",
   "version": "3.9.1"
  }
 },
 "nbformat": 4,
 "nbformat_minor": 5
}
