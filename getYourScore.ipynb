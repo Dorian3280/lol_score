{
 "cells": [
  {
   "cell_type": "code",
   "execution_count": 1,
   "id": "27861cfb",
   "metadata": {},
   "outputs": [],
   "source": [
    "import requests\n",
    "import pandas as pd\n",
    "import matplotlib.pyplot as plt\n",
    "from secret import API_KEY"
   ]
  },
  {
   "cell_type": "code",
   "execution_count": 2,
   "id": "5cdd09d3",
   "metadata": {},
   "outputs": [],
   "source": [
    "nbrGames = 20\n",
    "ig = 'Vayntox'"
   ]
  },
  {
   "cell_type": "code",
   "execution_count": 3,
   "id": "1b1eb5c2",
   "metadata": {},
   "outputs": [],
   "source": [
    "puuid = requests.get(f\"https://euw1.api.riotgames.com/lol/summoner/v4/summoners/by-name/{ig}?api_key={API_KEY}\").json()[\"puuid\"]"
   ]
  },
  {
   "cell_type": "code",
   "execution_count": 4,
   "id": "0d95016f",
   "metadata": {},
   "outputs": [],
   "source": [
    "games = requests.get(f\"https://europe.api.riotgames.com/lol/match/v5/matches/by-puuid/{puuid}/ids?type=ranked&start=0&count={nbrGames}&api_key={API_KEY}\").json()"
   ]
  },
  {
   "cell_type": "code",
   "execution_count": 5,
   "id": "83c823d9",
   "metadata": {},
   "outputs": [],
   "source": [
    "columns = ['championName', 'win', 'gameDuration', 'teamPosition', 'totalMinionsKilled', 'neutralMinionsKilled', 'totalDamageDealtToChampions', 'goldEarned', 'totalDamageTaken', 'visionScore', 'timeCCingOthers']"
   ]
  },
  {
   "cell_type": "code",
   "execution_count": 6,
   "id": "054f5a54",
   "metadata": {},
   "outputs": [],
   "source": [
    "array = []"
   ]
  },
  {
   "cell_type": "code",
   "execution_count": 7,
   "id": "0b0616c3",
   "metadata": {},
   "outputs": [],
   "source": [
    "for i in games:\n",
    "    json = requests.get(f\"https://europe.api.riotgames.com/lol/match/v5/matches/{i}?api_key={API_KEY}\").json()\n",
    "    index = json['metadata']['participants'].index(puuid)\n",
    "    player = json['info']['participants'][index]\n",
    "    player['gameDuration'] = json['info']['gameDuration']\n",
    "    array.append(list(map(lambda x: player[x], columns)))"
   ]
  },
  {
   "cell_type": "code",
   "execution_count": 8,
   "id": "80327607",
   "metadata": {},
   "outputs": [],
   "source": [
    "df = pd.DataFrame(data=array, columns=columns)"
   ]
  },
  {
   "cell_type": "code",
   "execution_count": 9,
   "id": "ccd406ea",
   "metadata": {},
   "outputs": [],
   "source": [
    "def formatDf(df):\n",
    "    df['scoreCreeps'] = df['totalMinionsKilled'] + df['neutralMinionsKilled']\n",
    "    df.rename(columns={'win': 'winrate'})\n",
    "    return df"
   ]
  },
  {
   "cell_type": "code",
   "execution_count": 10,
   "id": "300ff9fd",
   "metadata": {},
   "outputs": [],
   "source": [
    "formatedDf = formatDf(df)"
   ]
  },
  {
   "cell_type": "code",
   "execution_count": 11,
   "id": "a5af00d1",
   "metadata": {},
   "outputs": [],
   "source": [
    "def filterGames(df, champ):\n",
    "    return df[df['championName'] == champ]"
   ]
  },
  {
   "cell_type": "code",
   "execution_count": 12,
   "id": "1cc428dc",
   "metadata": {},
   "outputs": [],
   "source": [
    "def getParams(champ):\n",
    "    def gen(n):\n",
    "        for i in n:\n",
    "            yield i\n",
    "\n",
    "    generator = gen(open('./params.txt', 'r'))\n",
    "    \n",
    "    while True:\n",
    "        str = next(generator)\n",
    "        if champ in str:\n",
    "            stats = str.strip().split(';')\n",
    "            stats.pop(0)\n",
    "            return {s.split(',')[0]: list(map(float, s.split(',')[1:])) for s in stats}"
   ]
  },
  {
   "cell_type": "code",
   "execution_count": 13,
   "id": "26f8ca1c",
   "metadata": {},
   "outputs": [],
   "source": [
    "def score(params, data):\n",
    "    s = 0\n",
    "    for k, v in params.items():\n",
    "        n = (data[k] / (data['gameDuration'] / 60)).mean()\n",
    "        s += v[0]*((n-v[1])/(v[2]-v[1]))\n",
    "    return float(s)"
   ]
  },
  {
   "cell_type": "code",
   "execution_count": 14,
   "id": "d86c90a7",
   "metadata": {},
   "outputs": [],
   "source": [
    "def formatScore(nbr):\n",
    "    level = \"\"\n",
    "    if nbr < 0.2:\n",
    "        level = \"C'est pas vraiment pas ouf..\"\n",
    "    elif nbr < 0.4:\n",
    "        level = \"Ça vaaaaaaa\"\n",
    "    elif nbr < 0.6:\n",
    "        level = \"Tu t'en sors bien !\"\n",
    "    elif nbr < 0.8:\n",
    "        level = \"Mec, t'es trop fort\"\n",
    "    else:\n",
    "        level = \"T'es gifted\"\n",
    "    return f\"T'es a {nbr:.1%} de performance. {level}\""
   ]
  },
  {
   "cell_type": "code",
   "execution_count": 15,
   "id": "0d26c666",
   "metadata": {},
   "outputs": [],
   "source": [
    "def getScore(df, champ):\n",
    "    df = formatDf(df)\n",
    "    data = filterGames(df, champ)\n",
    "    params = getParams(champ)\n",
    "    s = score(params, data)\n",
    "    return s"
   ]
  },
  {
   "cell_type": "code",
   "execution_count": 16,
   "id": "8279e3af",
   "metadata": {},
   "outputs": [],
   "source": [
    "res = getScore(formatedDf, 'Vayne')"
   ]
  },
  {
   "cell_type": "code",
   "execution_count": 17,
   "id": "8e98f399",
   "metadata": {},
   "outputs": [
    {
     "data": {
      "text/plain": [
       "\"T'es a 47.4% de performance. Tu t'en sors bien !\""
      ]
     },
     "execution_count": 17,
     "metadata": {},
     "output_type": "execute_result"
    }
   ],
   "source": [
    "formatScore(res)"
   ]
  },
  {
   "cell_type": "code",
   "execution_count": 18,
   "id": "bfd4390d",
   "metadata": {},
   "outputs": [],
   "source": [
    "def pieWinrate(df):\n",
    "    plt.figure()\n",
    "    plt.title(\"Winrate\")\n",
    "    percent = df['win'].mean()*100\n",
    "    labels = ['win', 'lose']\n",
    "    plt.pie([percent, 100-percent], labels=labels, autopct='%1.0f%%')\n",
    "    plt.legend()\n",
    "    plt.show()"
   ]
  }
 ],
 "metadata": {
  "kernelspec": {
   "display_name": "Python 3 (ipykernel)",
   "language": "python",
   "name": "python3"
  },
  "language_info": {
   "codemirror_mode": {
    "name": "ipython",
    "version": 3
   },
   "file_extension": ".py",
   "mimetype": "text/x-python",
   "name": "python",
   "nbconvert_exporter": "python",
   "pygments_lexer": "ipython3",
   "version": "3.9.1"
  }
 },
 "nbformat": 4,
 "nbformat_minor": 5
}
