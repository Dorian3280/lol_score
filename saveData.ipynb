{
 "cells": [
  {
   "cell_type": "code",
   "execution_count": 1,
   "metadata": {},
   "outputs": [],
   "source": [
    "import requests\n",
    "import pandas as pd\n",
    "from secret import API_KEY\n",
    "from data import DATA"
   ]
  },
  {
   "cell_type": "code",
   "execution_count": 2,
   "metadata": {},
   "outputs": [],
   "source": [
    "champ = \"Vayne\""
   ]
  },
  {
   "cell_type": "code",
   "execution_count": 3,
   "metadata": {},
   "outputs": [],
   "source": [
    "def getJsonFromlolApi(country, g):\n",
    "    res = requests.get(f\"https://{country}.api.riotgames.com/lol/match/v5/matches/{g}?api_key={API_KEY}\")\n",
    "    try:\n",
    "        if res.status_code != 200: raise Exception\n",
    "        return res.json()\n",
    "    except Exception:\n",
    "        print(res.json()[\"status\"])\n",
    "        SystemExit(\"Stop right there!\")"
   ]
  },
  {
   "cell_type": "code",
   "execution_count": 4,
   "metadata": {},
   "outputs": [],
   "source": [
    "def getRecentGames(puuid, country):\n",
    "    return requests.get(f\"https://{country}.api.riotgames.com/lol/match/v5/matches/by-puuid/{puuid}/ids?type=ranked&start=60&count=30&api_key={API_KEY}\").json()"
   ]
  },
  {
   "cell_type": "code",
   "execution_count": 5,
   "metadata": {},
   "outputs": [],
   "source": [
    "def getDFfromJson(champ):\n",
    "    array = []\n",
    "    for p in DATA[champ][\"players\"]:\n",
    "        games = getRecentGames(p[\"puuid\"], p[\"country\"])\n",
    "        \n",
    "        for g in games:\n",
    "            json = getJsonFromlolApi(p['country'], g)\n",
    "            index = json['metadata']['participants'].index(p[\"puuid\"])\n",
    "            player = json['info']['participants'][index]\n",
    "            if player['championName'] != champ: continue\n",
    "            if player['teamPosition'] != DATA[champ][\"role\"]: continue\n",
    "            player['gameDuration'] = json['info']['gameDuration']\n",
    "            try:\n",
    "                player['hadAfkTeammate'] = player['challenges']['hadAfkTeammate']\n",
    "            except KeyError:\n",
    "                player['hadAfkTeammate'] = 0\n",
    "            array.append(pd.DataFrame({x: [player[x]] for x in DATA[champ][\"columns\"]}))\n",
    "\n",
    "    return pd.concat(array).reset_index(drop=True)"
   ]
  },
  {
   "cell_type": "code",
   "execution_count": 6,
   "metadata": {},
   "outputs": [],
   "source": [
    "df = getDFfromJson(champ)"
   ]
  },
  {
   "cell_type": "code",
   "execution_count": 7,
   "metadata": {},
   "outputs": [],
   "source": [
    "df['scoreCreeps'] = df['totalMinionsKilled'] + df['neutralMinionsKilled']"
   ]
  },
  {
   "cell_type": "code",
   "execution_count": 8,
   "metadata": {},
   "outputs": [],
   "source": [
    "df.to_csv(f\"./{champ}3.txt\", index=False, header=False)"
   ]
  }
 ],
 "metadata": {
  "interpreter": {
   "hash": "e3c3e2868330f57f92ee4e8d40286898f9e2ac6e88478a50463367b6ef3dd9f6"
  },
  "kernelspec": {
   "display_name": "Python 3.9.1 64-bit",
   "language": "python",
   "name": "python3"
  },
  "language_info": {
   "codemirror_mode": {
    "name": "ipython",
    "version": 3
   },
   "file_extension": ".py",
   "mimetype": "text/x-python",
   "name": "python",
   "nbconvert_exporter": "python",
   "pygments_lexer": "ipython3",
   "version": "3.9.1"
  },
  "orig_nbformat": 4
 },
 "nbformat": 4,
 "nbformat_minor": 2
}
