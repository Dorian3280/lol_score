{
 "cells": [
  {
   "cell_type": "code",
   "execution_count": 1,
   "id": "f589ae6b",
   "metadata": {},
   "outputs": [],
   "source": [
    "import requests\n",
    "import pandas as pd\n",
    "from secret import API_KEY\n",
    "\n",
    "def dfFromAboveDiamond():\n",
    "    queues = ['challenger', 'grandmaster', 'master']\n",
    "    list = []\n",
    "    for i in queues:\n",
    "        response = requests.get(f\"https://euw1.api.riotgames.com/lol/league/v4/{i}leagues/by-queue/RANKED_SOLO_5x5?api_key={API_KEY}\")\n",
    "        json = response.json()['entries']\n",
    "        df = pd.DataFrame.from_dict(json)\n",
    "        df.insert(4, 'tier', i)\n",
    "        list.append(df)\n",
    "\n",
    "    return pd.concat(list)\n",
    "\n",
    "def dfFromDiamond1(nbr):\n",
    "    list = []\n",
    "    for i in range(1, nbr):\n",
    "        response = requests.get(f\"https://euw1.api.riotgames.com/lol/league/v4/entries/RANKED_SOLO_5x5/DIAMOND/I?page={i}&api_key={API_KEY}\")\n",
    "        json = response.json()\n",
    "        df = pd.DataFrame.from_dict(json)\n",
    "        list.append(df)\n",
    "    \n",
    "    return pd.concat(list)"
   ]
  },
  {
   "cell_type": "code",
   "execution_count": 2,
   "id": "6a746e03",
   "metadata": {},
   "outputs": [],
   "source": [
    "high = dfFromAboveDiamond()"
   ]
  },
  {
   "cell_type": "code",
   "execution_count": 3,
   "id": "6738a06c",
   "metadata": {},
   "outputs": [],
   "source": [
    "low = dfFromDiamond1(2)"
   ]
  },
  {
   "cell_type": "code",
   "execution_count": 4,
   "id": "06d1a1b7",
   "metadata": {},
   "outputs": [],
   "source": [
    "df = pd.concat([high, low]).reset_index(drop=True)"
   ]
  },
  {
   "cell_type": "code",
   "execution_count": 10,
   "id": "e43d4c64",
   "metadata": {},
   "outputs": [],
   "source": [
    "df = df.drop(['veteran', 'inactive', 'freshBlood', 'hotStreak'], axis=1)\n",
    "df = df.dropna(axis=1)\n",
    "df = df[df['totalgames'] > 30]"
   ]
  },
  {
   "cell_type": "code",
   "execution_count": 6,
   "id": "b3c03c6e",
   "metadata": {},
   "outputs": [],
   "source": [
    "df['totalgames'] = df.apply(lambda x: x['wins'] + x['losses'], axis=1)\n",
    "df['winrate'] = df.apply(lambda x: round(x['wins'] / x['totalgames'] * 100, 1), axis=1)"
   ]
  }
 ],
 "metadata": {
  "kernelspec": {
   "display_name": "Python 3 (ipykernel)",
   "language": "python",
   "name": "python3"
  },
  "language_info": {
   "codemirror_mode": {
    "name": "ipython",
    "version": 3
   },
   "file_extension": ".py",
   "mimetype": "text/x-python",
   "name": "python",
   "nbconvert_exporter": "python",
   "pygments_lexer": "ipython3",
   "version": "3.9.1"
  }
 },
 "nbformat": 4,
 "nbformat_minor": 5
}
