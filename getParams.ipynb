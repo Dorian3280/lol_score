{
 "cells": [
  {
   "cell_type": "code",
   "execution_count": 1,
   "metadata": {},
   "outputs": [],
   "source": [
    "import requests\n",
    "import pandas as pd\n",
    "from secret import API_KEY\n",
    "from data import DATA"
   ]
  },
  {
   "cell_type": "code",
   "execution_count": 2,
   "metadata": {},
   "outputs": [],
   "source": [
    "champ = \"Vayne\"\n",
    "columns = DATA[champ][\"columns\"]\n",
    "puuid = DATA[champ][\"players\"][0][\"puuid\"]"
   ]
  },
  {
   "cell_type": "code",
   "execution_count": 3,
   "metadata": {},
   "outputs": [],
   "source": [
    "games = requests.get(f\"https://europe.api.riotgames.com/lol/match/v5/matches/by-puuid/{puuid}/ids?type=ranked&start=0&count=20&api_key={API_KEY}\").json()"
   ]
  },
  {
   "cell_type": "code",
   "execution_count": 4,
   "metadata": {},
   "outputs": [],
   "source": [
    "array = []"
   ]
  },
  {
   "cell_type": "code",
   "execution_count": 5,
   "metadata": {},
   "outputs": [],
   "source": [
    "for i in games:\n",
    "    json = requests.get(f\"https://europe.api.riotgames.com/lol/match/v5/matches/{i}?api_key={API_KEY}\").json()\n",
    "    index = json['metadata']['participants'].index(puuid)\n",
    "    player = json['info']['participants'][index]\n",
    "    if player['championName'] != 'Vayne': continue\n",
    "    if player['teamPosition'] != 'BOTTOM': continue\n",
    "    if not player['win']: continue\n",
    "    player['gameDuration'] = json['info']['gameDuration']\n",
    "    array.append(list(map(lambda x: player[x], columns)))\n",
    "    if len(array) == 5: break"
   ]
  },
  {
   "cell_type": "code",
   "execution_count": 6,
   "metadata": {},
   "outputs": [
    {
     "data": {
      "text/html": [
       "<div>\n",
       "<style scoped>\n",
       "    .dataframe tbody tr th:only-of-type {\n",
       "        vertical-align: middle;\n",
       "    }\n",
       "\n",
       "    .dataframe tbody tr th {\n",
       "        vertical-align: top;\n",
       "    }\n",
       "\n",
       "    .dataframe thead th {\n",
       "        text-align: right;\n",
       "    }\n",
       "</style>\n",
       "<table border=\"1\" class=\"dataframe\">\n",
       "  <thead>\n",
       "    <tr style=\"text-align: right;\">\n",
       "      <th></th>\n",
       "      <th>championName</th>\n",
       "      <th>gameDuration</th>\n",
       "      <th>kills</th>\n",
       "      <th>deaths</th>\n",
       "      <th>totalDamageDealtToChampions</th>\n",
       "      <th>totalMinionsKilled</th>\n",
       "      <th>neutralMinionsKilled</th>\n",
       "      <th>visionWardsBoughtInGame</th>\n",
       "    </tr>\n",
       "  </thead>\n",
       "  <tbody>\n",
       "    <tr>\n",
       "      <th>0</th>\n",
       "      <td>Vayne</td>\n",
       "      <td>2332</td>\n",
       "      <td>18</td>\n",
       "      <td>6</td>\n",
       "      <td>47700</td>\n",
       "      <td>348</td>\n",
       "      <td>43</td>\n",
       "      <td>0</td>\n",
       "    </tr>\n",
       "    <tr>\n",
       "      <th>1</th>\n",
       "      <td>Vayne</td>\n",
       "      <td>1953</td>\n",
       "      <td>15</td>\n",
       "      <td>9</td>\n",
       "      <td>34870</td>\n",
       "      <td>224</td>\n",
       "      <td>28</td>\n",
       "      <td>0</td>\n",
       "    </tr>\n",
       "    <tr>\n",
       "      <th>2</th>\n",
       "      <td>Vayne</td>\n",
       "      <td>2253</td>\n",
       "      <td>15</td>\n",
       "      <td>5</td>\n",
       "      <td>38815</td>\n",
       "      <td>296</td>\n",
       "      <td>60</td>\n",
       "      <td>0</td>\n",
       "    </tr>\n",
       "    <tr>\n",
       "      <th>3</th>\n",
       "      <td>Vayne</td>\n",
       "      <td>1264</td>\n",
       "      <td>8</td>\n",
       "      <td>6</td>\n",
       "      <td>14860</td>\n",
       "      <td>155</td>\n",
       "      <td>10</td>\n",
       "      <td>0</td>\n",
       "    </tr>\n",
       "    <tr>\n",
       "      <th>4</th>\n",
       "      <td>Vayne</td>\n",
       "      <td>1027</td>\n",
       "      <td>5</td>\n",
       "      <td>1</td>\n",
       "      <td>6898</td>\n",
       "      <td>126</td>\n",
       "      <td>4</td>\n",
       "      <td>0</td>\n",
       "    </tr>\n",
       "  </tbody>\n",
       "</table>\n",
       "</div>"
      ],
      "text/plain": [
       "  championName  gameDuration  kills  deaths  totalDamageDealtToChampions  \\\n",
       "0        Vayne          2332     18       6                        47700   \n",
       "1        Vayne          1953     15       9                        34870   \n",
       "2        Vayne          2253     15       5                        38815   \n",
       "3        Vayne          1264      8       6                        14860   \n",
       "4        Vayne          1027      5       1                         6898   \n",
       "\n",
       "   totalMinionsKilled  neutralMinionsKilled  visionWardsBoughtInGame  \n",
       "0                 348                    43                        0  \n",
       "1                 224                    28                        0  \n",
       "2                 296                    60                        0  \n",
       "3                 155                    10                        0  \n",
       "4                 126                     4                        0  "
      ]
     },
     "execution_count": 6,
     "metadata": {},
     "output_type": "execute_result"
    }
   ],
   "source": [
    "df = pd.DataFrame(data=array, columns=columns)\n",
    "df"
   ]
  },
  {
   "cell_type": "code",
   "execution_count": null,
   "metadata": {},
   "outputs": [],
   "source": []
  }
 ],
 "metadata": {
  "interpreter": {
   "hash": "e3c3e2868330f57f92ee4e8d40286898f9e2ac6e88478a50463367b6ef3dd9f6"
  },
  "kernelspec": {
   "display_name": "Python 3.9.1 64-bit",
   "language": "python",
   "name": "python3"
  },
  "language_info": {
   "codemirror_mode": {
    "name": "ipython",
    "version": 3
   },
   "file_extension": ".py",
   "mimetype": "text/x-python",
   "name": "python",
   "nbconvert_exporter": "python",
   "pygments_lexer": "ipython3",
   "version": "3.9.1"
  },
  "orig_nbformat": 4
 },
 "nbformat": 4,
 "nbformat_minor": 2
}
