{
 "cells": [
  {
   "cell_type": "code",
   "execution_count": null,
   "metadata": {},
   "outputs": [],
   "source": [
    "import requests\n",
    "import pandas as pd\n",
    "from secret import API_KEY\n",
    "from data import DATA"
   ]
  },
  {
   "cell_type": "code",
   "execution_count": null,
   "metadata": {},
   "outputs": [],
   "source": [
    "champ = \"Vayne\""
   ]
  },
  {
   "cell_type": "code",
   "execution_count": null,
   "metadata": {},
   "outputs": [],
   "source": [
    "def getRecentGames(puuid, country):\n",
    "    nb = 30\n",
    "    return requests.get(f\"https://{country}.api.riotgames.com/lol/match/v5/matches/by-puuid/{puuid}/ids?type=ranked&start=0&count={nb}&api_key={API_KEY}\").json()"
   ]
  },
  {
   "cell_type": "code",
   "execution_count": null,
   "metadata": {},
   "outputs": [],
   "source": [
    "def getDFfromJson(champ):\n",
    "    array = []\n",
    "    for p in DATA[champ][\"players\"]:\n",
    "        games = getRecentGames(p[\"puuid\"], p[\"country\"])\n",
    "        \n",
    "        for g in games:\n",
    "            json = requests.get(f\"https://{p['country']}.api.riotgames.com/lol/match/v5/matches/{g}?api_key={API_KEY}\").json()\n",
    "            index = json['metadata']['participants'].index(p[\"puuid\"])\n",
    "            print(index)\n",
    "            player = json['info']['participants'][index]\n",
    "            if player['championName'] != champ: continue\n",
    "            if player['teamPosition'] != DATA[champ][\"role\"]: continue\n",
    "            player['gameDuration'] = json['info']['gameDuration']\n",
    "            array.append(pd.DataFrame({x: [player[x]] for x in DATA[champ][\"columns\"]}))\n",
    "\n",
    "            \n",
    "    return pd.concat(array).reset_index(drop=True)"
   ]
  },
  {
   "cell_type": "code",
   "execution_count": null,
   "metadata": {},
   "outputs": [],
   "source": [
    "df = getDFfromJson(champ)"
   ]
  },
  {
   "cell_type": "code",
   "execution_count": 13,
   "metadata": {},
   "outputs": [],
   "source": [
    "test = df['totalMinionsKilled']"
   ]
  },
  {
   "cell_type": "code",
   "execution_count": 9,
   "metadata": {},
   "outputs": [],
   "source": [
    "\n",
    "import matplotlib.pyplot as plt"
   ]
  },
  {
   "cell_type": "code",
   "execution_count": 16,
   "metadata": {},
   "outputs": [
    {
     "data": {
      "text/plain": [
       "(array([2., 1., 2., 1., 3., 5., 3., 6., 3., 2., 3., 5., 0., 2., 0., 0., 1.,\n",
       "        0., 0., 1.]),\n",
       " array([ 83.  ,  96.25, 109.5 , 122.75, 136.  , 149.25, 162.5 , 175.75,\n",
       "        189.  , 202.25, 215.5 , 228.75, 242.  , 255.25, 268.5 , 281.75,\n",
       "        295.  , 308.25, 321.5 , 334.75, 348.  ]),\n",
       " <BarContainer object of 20 artists>)"
      ]
     },
     "execution_count": 16,
     "metadata": {},
     "output_type": "execute_result"
    },
    {
     "data": {
      "image/png": "[encoded data removed]",
      "text/plain": [
       "<Figure size 432x288 with 1 Axes>"
      ]
     },
     "metadata": {
      "needs_background": "light"
     },
     "output_type": "display_data"
    }
   ],
   "source": [
    "plt.hist(test, bins=20)"
   ]
  }
 ],
 "metadata": {
  "interpreter": {
   "hash": "e3c3e2868330f57f92ee4e8d40286898f9e2ac6e88478a50463367b6ef3dd9f6"
  },
  "kernelspec": {
   "display_name": "Python 3.9.1 64-bit",
   "language": "python",
   "name": "python3"
  },
  "language_info": {
   "codemirror_mode": {
    "name": "ipython",
    "version": 3
   },
   "file_extension": ".py",
   "mimetype": "text/x-python",
   "name": "python",
   "nbconvert_exporter": "python",
   "pygments_lexer": "ipython3",
   "version": "3.9.1"
  },
  "orig_nbformat": 4
 },
 "nbformat": 4,
 "nbformat_minor": 2
}
