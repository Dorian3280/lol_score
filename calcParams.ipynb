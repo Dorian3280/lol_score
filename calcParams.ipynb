{
 "cells": [
  {
   "cell_type": "code",
   "execution_count": 1,
   "metadata": {},
   "outputs": [],
   "source": [
    "import pandas as pd\n",
    "import numpy as np\n",
    "import fileinput, sys"
   ]
  },
  {
   "cell_type": "code",
   "execution_count": 2,
   "metadata": {},
   "outputs": [],
   "source": [
    "champ = 'Vayne'"
   ]
  },
  {
   "cell_type": "code",
   "execution_count": 3,
   "metadata": {},
   "outputs": [],
   "source": [
    "df = pd.read_csv(f\"data/{champ}.txt\")"
   ]
  },
  {
   "cell_type": "code",
   "execution_count": 4,
   "metadata": {},
   "outputs": [],
   "source": [
    "data = df.copy()"
   ]
  },
  {
   "cell_type": "code",
   "execution_count": 5,
   "metadata": {},
   "outputs": [],
   "source": [
    "def dropOutliers(df):\n",
    "    df.drop(data[data['hadAfkTeammate'] > 0].index, inplace=True)\n",
    "    df.drop(data[(data['gameEndedInSurrender'] | data['gameEndedInSurrender']) & (data['gameDuration'] < 1350)].index, inplace=True)"
   ]
  },
  {
   "cell_type": "code",
   "execution_count": 6,
   "metadata": {},
   "outputs": [],
   "source": [
    "dropOutliers(data)"
   ]
  },
  {
   "cell_type": "code",
   "execution_count": 7,
   "metadata": {},
   "outputs": [],
   "source": [
    "def returnParams(df: pd.DataFrame):\n",
    "    params = {}\n",
    "    weight = 4\n",
    "    relevantData = df.describe()\n",
    "    meanScoreCreeps = relevantData.loc['mean']['scoreCreeps'] / (relevantData.loc['mean']['gameDuration'] / 60)\n",
    "    meanDmg = relevantData.loc['mean']['totalDamageDealtToChampions'] / (relevantData.loc['mean']['gameDuration'] / 60)\n",
    "    params['kills'] = 1/weight, 0, relevantData.loc['75%']['kills']\n",
    "    params['deaths'] = 1/weight, 10, 0\n",
    "    params['scoreCreeps'] = 1/weight, round(meanScoreCreeps * 0.6, 1), round(meanScoreCreeps * 1.5, 1)\n",
    "    params['totalDamageDealtToChampions'] = 1/weight, round(meanDmg * 0.6), round(meanDmg * 1.5)\n",
    "    # tuple(weigth, minPerformorance, maxPerformance)\n",
    "\n",
    "    return params"
   ]
  },
  {
   "cell_type": "code",
   "execution_count": 8,
   "metadata": {},
   "outputs": [],
   "source": [
    "params = returnParams(data)"
   ]
  },
  {
   "cell_type": "code",
   "execution_count": 25,
   "metadata": {},
   "outputs": [],
   "source": [
    "def updateParams(champ, params: dict):\n",
    "    fi = fileinput.input('test.txt', inplace=True)\n",
    "    try:\n",
    "        for line in fi:\n",
    "            if line.find(champ) != -1:\n",
    "                line = f'''Vayne;{';'.join(f\"{k},{','.join(map(str, v))}\" for k, v in params.items())}\\n'''\n",
    "            sys.stdout.write(line)\n",
    "    except:\n",
    "        fi.close()\n",
    "    fi.close()"
   ]
  }
 ],
 "metadata": {
  "interpreter": {
   "hash": "e3c3e2868330f57f92ee4e8d40286898f9e2ac6e88478a50463367b6ef3dd9f6"
  },
  "kernelspec": {
   "display_name": "Python 3.9.1 64-bit",
   "language": "python",
   "name": "python3"
  },
  "language_info": {
   "codemirror_mode": {
    "name": "ipython",
    "version": 3
   },
   "file_extension": ".py",
   "mimetype": "text/x-python",
   "name": "python",
   "nbconvert_exporter": "python",
   "pygments_lexer": "ipython3",
   "version": "3.9.1"
  },
  "orig_nbformat": 4
 },
 "nbformat": 4,
 "nbformat_minor": 2
}
