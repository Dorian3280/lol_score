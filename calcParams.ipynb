{
 "cells": [
  {
   "cell_type": "code",
   "execution_count": 1,
   "metadata": {},
   "outputs": [],
   "source": [
    "import pandas as pd"
   ]
  },
  {
   "cell_type": "code",
   "execution_count": 2,
   "metadata": {},
   "outputs": [],
   "source": [
    "champ = 'Vayne'"
   ]
  },
  {
   "cell_type": "code",
   "execution_count": 3,
   "metadata": {},
   "outputs": [],
   "source": [
    "df = pd.read_csv(f\"data/{champ}.txt\")"
   ]
  },
  {
   "cell_type": "code",
   "execution_count": 4,
   "metadata": {},
   "outputs": [
    {
     "data": {
      "text/html": [
       "<div>\n",
       "<style scoped>\n",
       "    .dataframe tbody tr th:only-of-type {\n",
       "        vertical-align: middle;\n",
       "    }\n",
       "\n",
       "    .dataframe tbody tr th {\n",
       "        vertical-align: top;\n",
       "    }\n",
       "\n",
       "    .dataframe thead th {\n",
       "        text-align: right;\n",
       "    }\n",
       "</style>\n",
       "<table border=\"1\" class=\"dataframe\">\n",
       "  <thead>\n",
       "    <tr style=\"text-align: right;\">\n",
       "      <th></th>\n",
       "      <th>win</th>\n",
       "      <th>gameDuration</th>\n",
       "      <th>kills</th>\n",
       "      <th>deaths</th>\n",
       "      <th>totalDamageDealtToChampions</th>\n",
       "      <th>totalMinionsKilled</th>\n",
       "      <th>neutralMinionsKilled</th>\n",
       "      <th>gameEndedInEarlySurrender</th>\n",
       "      <th>gameEndedInSurrender</th>\n",
       "      <th>hadAfkTeammate</th>\n",
       "      <th>scoreCreeps</th>\n",
       "    </tr>\n",
       "  </thead>\n",
       "  <tbody>\n",
       "    <tr>\n",
       "      <th>0</th>\n",
       "      <td>True</td>\n",
       "      <td>1961</td>\n",
       "      <td>14</td>\n",
       "      <td>4</td>\n",
       "      <td>46039</td>\n",
       "      <td>232</td>\n",
       "      <td>42</td>\n",
       "      <td>False</td>\n",
       "      <td>False</td>\n",
       "      <td>0</td>\n",
       "      <td>274</td>\n",
       "    </tr>\n",
       "    <tr>\n",
       "      <th>1</th>\n",
       "      <td>False</td>\n",
       "      <td>1061</td>\n",
       "      <td>0</td>\n",
       "      <td>5</td>\n",
       "      <td>3388</td>\n",
       "      <td>104</td>\n",
       "      <td>1</td>\n",
       "      <td>False</td>\n",
       "      <td>False</td>\n",
       "      <td>0</td>\n",
       "      <td>105</td>\n",
       "    </tr>\n",
       "    <tr>\n",
       "      <th>2</th>\n",
       "      <td>False</td>\n",
       "      <td>1462</td>\n",
       "      <td>2</td>\n",
       "      <td>7</td>\n",
       "      <td>12658</td>\n",
       "      <td>165</td>\n",
       "      <td>12</td>\n",
       "      <td>False</td>\n",
       "      <td>False</td>\n",
       "      <td>0</td>\n",
       "      <td>177</td>\n",
       "    </tr>\n",
       "    <tr>\n",
       "      <th>3</th>\n",
       "      <td>True</td>\n",
       "      <td>1148</td>\n",
       "      <td>1</td>\n",
       "      <td>1</td>\n",
       "      <td>6526</td>\n",
       "      <td>136</td>\n",
       "      <td>2</td>\n",
       "      <td>False</td>\n",
       "      <td>True</td>\n",
       "      <td>0</td>\n",
       "      <td>138</td>\n",
       "    </tr>\n",
       "    <tr>\n",
       "      <th>4</th>\n",
       "      <td>True</td>\n",
       "      <td>2332</td>\n",
       "      <td>18</td>\n",
       "      <td>6</td>\n",
       "      <td>47700</td>\n",
       "      <td>348</td>\n",
       "      <td>43</td>\n",
       "      <td>False</td>\n",
       "      <td>False</td>\n",
       "      <td>0</td>\n",
       "      <td>391</td>\n",
       "    </tr>\n",
       "  </tbody>\n",
       "</table>\n",
       "</div>"
      ],
      "text/plain": [
       "     win  gameDuration  kills  deaths  totalDamageDealtToChampions  \\\n",
       "0   True          1961     14       4                        46039   \n",
       "1  False          1061      0       5                         3388   \n",
       "2  False          1462      2       7                        12658   \n",
       "3   True          1148      1       1                         6526   \n",
       "4   True          2332     18       6                        47700   \n",
       "\n",
       "   totalMinionsKilled  neutralMinionsKilled  gameEndedInEarlySurrender  \\\n",
       "0                 232                    42                      False   \n",
       "1                 104                     1                      False   \n",
       "2                 165                    12                      False   \n",
       "3                 136                     2                      False   \n",
       "4                 348                    43                      False   \n",
       "\n",
       "   gameEndedInSurrender  hadAfkTeammate  scoreCreeps  \n",
       "0                 False               0          274  \n",
       "1                 False               0          105  \n",
       "2                 False               0          177  \n",
       "3                  True               0          138  \n",
       "4                 False               0          391  "
      ]
     },
     "execution_count": 4,
     "metadata": {},
     "output_type": "execute_result"
    }
   ],
   "source": [
    "df.head()"
   ]
  }
 ],
 "metadata": {
  "interpreter": {
   "hash": "e3c3e2868330f57f92ee4e8d40286898f9e2ac6e88478a50463367b6ef3dd9f6"
  },
  "kernelspec": {
   "display_name": "Python 3.9.1 64-bit",
   "language": "python",
   "name": "python3"
  },
  "language_info": {
   "codemirror_mode": {
    "name": "ipython",
    "version": 3
   },
   "file_extension": ".py",
   "mimetype": "text/x-python",
   "name": "python",
   "nbconvert_exporter": "python",
   "pygments_lexer": "ipython3",
   "version": "3.9.1"
  },
  "orig_nbformat": 4
 },
 "nbformat": 4,
 "nbformat_minor": 2
}
